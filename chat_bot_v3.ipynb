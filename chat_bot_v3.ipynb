{
 "cells": [
  {
   "cell_type": "code",
   "execution_count": 8,
   "metadata": {},
   "outputs": [],
   "source": [
    "import pandas as pd\n",
    "import numpy as np\n",
    "from sklearn.metrics.pairwise import cosine_similarity\n",
    "from sentence_transformers import SentenceTransformer\n",
    "import speech_recognition as sr"
   ]
  },
  {
   "cell_type": "code",
   "execution_count": 13,
   "metadata": {},
   "outputs": [],
   "source": [
    "def sentence_encode(transcript_name):\n",
    "    global model \n",
    "    model= SentenceTransformer('bert-base-nli-mean-tokens')\n",
    "    global data\n",
    "    data=pd.read_csv(transcript_name,header=None)\n",
    "    a,b=data.shape\n",
    "    sentences=[]\n",
    "    for i in range(0,a):\n",
    "        corpus=data.iloc[i,b-2]\n",
    "        sentences.append(corpus)\n",
    "    #print(sentences)    \n",
    "    sentence_embeddings = model.encode(sentences)\n",
    "    return sentence_embeddings"
   ]
  },
  {
   "cell_type": "code",
   "execution_count": 14,
   "metadata": {},
   "outputs": [],
   "source": [
    "def get_input(sentence_embeddings,test):\n",
    "    test_embeddings=model.encode(test)\n",
    "    score=cosine_similarity(\n",
    "    test_embeddings,\n",
    "    sentence_embeddings)\n",
    "    s=score.tolist()[0]\n",
    "    max_value = max(s)\n",
    "    max_index= s.index(max_value)\n",
    "    #print(max_index, max_value)\n",
    "    answer_list=data.iloc[max_index,:].values\n",
    "    answer_str = ''.join(answer_list)    \n",
    "    print(answer_str.split(\"?\")[1])"
   ]
  },
  {
   "cell_type": "code",
   "execution_count": 15,
   "metadata": {},
   "outputs": [
    {
     "name": "stdout",
     "output_type": "stream",
     "text": [
      "দশম জাতীয় সংসদ নির্বাচনে\n",
      "এডমিশন ফর্ম অনলাইন থেকে অথবা ইউ আই ইউ এর এডমিশন ডেস্ক থেকে সংগ্রহ করতে হবে\n"
     ]
    }
   ],
   "source": [
    "#test with keyboard\n",
    "test=input()\n",
    "test=[test]\n",
    "sentence_embeddings=sentence_encode(\"transcript_domain.csv\")\n",
    "get_input(sentence_embeddings,test)"
   ]
  },
  {
   "cell_type": "code",
   "execution_count": 16,
   "metadata": {},
   "outputs": [
    {
     "name": "stdout",
     "output_type": "stream",
     "text": [
      "please provide the file with extension:speech.wav\n",
      "দশম জাতীয় সংসদ নির্বাচনে\n",
      "এডমিশন ফর্ম অনলাইন থেকে অথবা ইউ আই ইউ এর এডমিশন ডেস্ক থেকে সংগ্রহ করতে হবে\n"
     ]
    }
   ],
   "source": [
    "#test with recorded file\n",
    "recog= sr.Recognizer()\n",
    "filename= input(\"please provide the file with extension:\")\n",
    "with sr.AudioFile(filename) as source:\n",
    "    audiofile=recog.listen(source)\n",
    "    try:\n",
    "        text=recog.recognize_google(audiofile, language='bn-BD')\n",
    "        print(text)\n",
    "        test=[text]\n",
    "        sentence_embeddings=sentence_encode(\"transcript_domain.csv\")\n",
    "        get_input(sentence_embeddings,test)\n",
    "    except:\n",
    "        print(\"check internet connectivity\")"
   ]
  },
  {
   "cell_type": "code",
   "execution_count": null,
   "metadata": {},
   "outputs": [],
   "source": [
    "#test real time\n",
    "recog= sr.Recognizer()\n",
    "with sr.Microphone() as source:\n",
    "    audio = recog.listen(source)\n",
    "    try:\n",
    "        text = recog.recognize_google(audio, language = 'bn-BD' )\n",
    "        print(text)\n",
    "        test=[test]\n",
    "        sentence_embeddings=sentence_encode(\"transcript_domain.csv\")\n",
    "        get_input(sentence_embeddings,test)\n",
    "    except:\n",
    "        print(\"Internet connectivity issue\")"
   ]
  },
  {
   "cell_type": "code",
   "execution_count": null,
   "metadata": {},
   "outputs": [],
   "source": [
    "!git init\n",
    "!git add README.md\n",
    "!git commit -m \"second commit\"\n",
    "!git branch -M main\n",
    "!git remote add origin https://github.com/rahadarmannabid/aims_lab_chat_bot.git\n",
    "!git push -u origin main"
   ]
  },
  {
   "cell_type": "code",
   "execution_count": null,
   "metadata": {},
   "outputs": [],
   "source": []
  }
 ],
 "metadata": {
  "kernelspec": {
   "display_name": "Python 3",
   "language": "python",
   "name": "python3"
  },
  "language_info": {
   "codemirror_mode": {
    "name": "ipython",
    "version": 3
   },
   "file_extension": ".py",
   "mimetype": "text/x-python",
   "name": "python",
   "nbconvert_exporter": "python",
   "pygments_lexer": "ipython3",
   "version": "3.7.6"
  }
 },
 "nbformat": 4,
 "nbformat_minor": 4
}
